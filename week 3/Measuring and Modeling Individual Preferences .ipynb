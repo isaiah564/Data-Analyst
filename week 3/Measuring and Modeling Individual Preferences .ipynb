{
 "cells": [
  {
   "cell_type": "code",
   "execution_count": 2,
   "id": "9594d404-b8f8-4853-b2bd-9b6b8deed4a0",
   "metadata": {},
   "outputs": [],
   "source": [
    "# Traditional Conjoint Analysis (Python)\n",
    "# prepare for Python version 3x features and functions\n",
    "from __future__ import division, print_function"
   ]
  },
  {
   "cell_type": "code",
   "execution_count": 3,
   "id": "d7b81b95-07e7-4695-881e-71ffa2322c17",
   "metadata": {},
   "outputs": [],
   "source": [
    "# import packages for analysis and modeling\n",
    "import pandas as pd # data frame operations\n",
    "import numpy as np # arrays and math functions\n",
    "import statsmodels.api as sm # statistical models (including regression)\n",
    "import statsmodels.formula.api as smf # R\u0002like model specification\n",
    "from patsy.contrasts import Sum"
   ]
  },
  {
   "cell_type": "code",
   "execution_count": 5,
   "id": "5b9546e4-d996-462d-9291-5869a700456e",
   "metadata": {},
   "outputs": [
    {
     "data": {
      "text/html": [
       "<div>\n",
       "<style scoped>\n",
       "    .dataframe tbody tr th:only-of-type {\n",
       "        vertical-align: middle;\n",
       "    }\n",
       "\n",
       "    .dataframe tbody tr th {\n",
       "        vertical-align: top;\n",
       "    }\n",
       "\n",
       "    .dataframe thead th {\n",
       "        text-align: right;\n",
       "    }\n",
       "</style>\n",
       "<table border=\"1\" class=\"dataframe\">\n",
       "  <thead>\n",
       "    <tr style=\"text-align: right;\">\n",
       "      <th></th>\n",
       "      <th>brand</th>\n",
       "      <th>startup</th>\n",
       "      <th>monthly</th>\n",
       "      <th>service</th>\n",
       "      <th>retail</th>\n",
       "      <th>apple</th>\n",
       "      <th>samsung</th>\n",
       "      <th>google</th>\n",
       "      <th>ranking</th>\n",
       "    </tr>\n",
       "  </thead>\n",
       "  <tbody>\n",
       "    <tr>\n",
       "      <th>0</th>\n",
       "      <td>\"AT&amp;T\"</td>\n",
       "      <td>\"$100\"</td>\n",
       "      <td>\"$100\"</td>\n",
       "      <td>\"4G NO\"</td>\n",
       "      <td>\"Retail NO\"</td>\n",
       "      <td>\"Apple NO\"</td>\n",
       "      <td>\"Samsung NO\"</td>\n",
       "      <td>\"Nexus NO\"</td>\n",
       "      <td>11</td>\n",
       "    </tr>\n",
       "    <tr>\n",
       "      <th>1</th>\n",
       "      <td>\"Verizon\"</td>\n",
       "      <td>\"$300\"</td>\n",
       "      <td>\"$100\"</td>\n",
       "      <td>\"4G NO\"</td>\n",
       "      <td>\"Retail YES\"</td>\n",
       "      <td>\"Apple YES\"</td>\n",
       "      <td>\"Samsung YES\"</td>\n",
       "      <td>\"Nexus NO\"</td>\n",
       "      <td>12</td>\n",
       "    </tr>\n",
       "    <tr>\n",
       "      <th>2</th>\n",
       "      <td>\"US Cellular\"</td>\n",
       "      <td>\"$400\"</td>\n",
       "      <td>\"$200\"</td>\n",
       "      <td>\"4G NO\"</td>\n",
       "      <td>\"Retail NO\"</td>\n",
       "      <td>\"Apple NO\"</td>\n",
       "      <td>\"Samsung YES\"</td>\n",
       "      <td>\"Nexus NO\"</td>\n",
       "      <td>9</td>\n",
       "    </tr>\n",
       "    <tr>\n",
       "      <th>3</th>\n",
       "      <td>\"Verizon\"</td>\n",
       "      <td>\"$400\"</td>\n",
       "      <td>\"$400\"</td>\n",
       "      <td>\"4G YES\"</td>\n",
       "      <td>\"Retail YES\"</td>\n",
       "      <td>\"Apple NO\"</td>\n",
       "      <td>\"Samsung NO\"</td>\n",
       "      <td>\"Nexus NO\"</td>\n",
       "      <td>2</td>\n",
       "    </tr>\n",
       "    <tr>\n",
       "      <th>4</th>\n",
       "      <td>\"Verizon\"</td>\n",
       "      <td>\"$200\"</td>\n",
       "      <td>\"$300\"</td>\n",
       "      <td>\"4G NO\"</td>\n",
       "      <td>\"Retail NO\"</td>\n",
       "      <td>\"Apple NO\"</td>\n",
       "      <td>\"Samsung YES\"</td>\n",
       "      <td>\"Nexus YES\"</td>\n",
       "      <td>8</td>\n",
       "    </tr>\n",
       "  </tbody>\n",
       "</table>\n",
       "</div>"
      ],
      "text/plain": [
       "           brand startup monthly   service        retail        apple  \\\n",
       "0         \"AT&T\"  \"$100\"  \"$100\"   \"4G NO\"   \"Retail NO\"   \"Apple NO\"   \n",
       "1      \"Verizon\"  \"$300\"  \"$100\"   \"4G NO\"  \"Retail YES\"  \"Apple YES\"   \n",
       "2  \"US Cellular\"  \"$400\"  \"$200\"   \"4G NO\"   \"Retail NO\"   \"Apple NO\"   \n",
       "3      \"Verizon\"  \"$400\"  \"$400\"  \"4G YES\"  \"Retail YES\"   \"Apple NO\"   \n",
       "4      \"Verizon\"  \"$200\"  \"$300\"   \"4G NO\"   \"Retail NO\"   \"Apple NO\"   \n",
       "\n",
       "         samsung       google  ranking  \n",
       "0   \"Samsung NO\"   \"Nexus NO\"       11  \n",
       "1  \"Samsung YES\"   \"Nexus NO\"       12  \n",
       "2  \"Samsung YES\"   \"Nexus NO\"        9  \n",
       "3   \"Samsung NO\"   \"Nexus NO\"        2  \n",
       "4  \"Samsung YES\"  \"Nexus YES\"        8  "
      ]
     },
     "execution_count": 5,
     "metadata": {},
     "output_type": "execute_result"
    }
   ],
   "source": [
    "# read in conjoint survey profiles with respondent ranks\n",
    "conjoint_data_frame =pd.read_csv('C:\\\\Users\\\\Admin\\\\Desktop\\\\data analyst\\\\datasets\\\\mobile_services_ranking.csv')\n",
    "conjoint_data_frame.head()"
   ]
  },
  {
   "cell_type": "code",
   "execution_count": 12,
   "id": "349256f9-c6f4-4a49-aee0-5b0d3890ff22",
   "metadata": {},
   "outputs": [
    {
     "ename": "SyntaxError",
     "evalue": "invalid syntax (3027635030.py, line 3)",
     "output_type": "error",
     "traceback": [
      "\u001b[1;36m  Cell \u001b[1;32mIn[12], line 3\u001b[1;36m\u001b[0m\n\u001b[1;33m    main_effects_model = ranking ~ C(brand, Sum) + C(startup, Sum)+ /C(monthly, Sum) + C(service, Sum) +C(retail, Sum) + C(apple, Sum) + /C(samsung, Sum) + C(google, Sum)\u001b[0m\n\u001b[1;37m                                 ^\u001b[0m\n\u001b[1;31mSyntaxError\u001b[0m\u001b[1;31m:\u001b[0m invalid syntax\n"
     ]
    }
   ],
   "source": [
    "# set up sum contrasts for effects coding as needed for conjoint analysis\n",
    "# using C(effect, Sum) notation within main effects model specification\n",
    "main_effects_model = ranking ~ C(brand, Sum) + C(startup, Sum)+ /C(monthly, Sum) + C(service, Sum) +C(retail, Sum) + C(apple, Sum) + /C(samsung, Sum) + C(google, Sum)\n",
    "main_effects_model"
   ]
  },
  {
   "cell_type": "code",
   "execution_count": null,
   "id": "5d5deff9-dca0-4c12-a025-a8b566c06d72",
   "metadata": {},
   "outputs": [],
   "source": []
  }
 ],
 "metadata": {
  "kernelspec": {
   "display_name": "py3-tf2",
   "language": "python",
   "name": "py3-tf2"
  },
  "language_info": {
   "codemirror_mode": {
    "name": "ipython",
    "version": 3
   },
   "file_extension": ".py",
   "mimetype": "text/x-python",
   "name": "python",
   "nbconvert_exporter": "python",
   "pygments_lexer": "ipython3",
   "version": "3.10.11"
  }
 },
 "nbformat": 4,
 "nbformat_minor": 5
}
